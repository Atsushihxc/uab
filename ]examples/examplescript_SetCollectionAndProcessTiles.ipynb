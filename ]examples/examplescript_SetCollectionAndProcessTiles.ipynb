{
 "cells": [
  {
   "cell_type": "markdown",
   "metadata": {},
   "source": [
    "# Example: Set Collection and Process Tiles"
   ]
  },
  {
   "cell_type": "markdown",
   "metadata": {},
   "source": [
    "### Some Assumptions You Should Know"
   ]
  },
  {
   "cell_type": "markdown",
   "metadata": {},
   "source": [
    "For the convenience and consistency of making the framework, the folders of raw data to be processed into collections should be organized in the following ways:\n",
    "Please refer to [this example](../uab_collectionFunctions.py.py) for more details.\n",
    "- Server (some NAS shared by the group)\n",
    "    - [Dataset Name 1] (name of the ds, could be 'inria', 'isprs', 'urban_mapper', recommend to have no space in the name)\n",
    "        - data (all the raw and processed files associate with this dataset)\n",
    "            - Original_Tiles (the raw data, including rgb data as well as ground truth)\n",
    "                - Naming rule for files: [CityName]\\_[TileName]\\_[fileType].[extension]\n",
    "                - e.g. Austin_1_RGB.tif\n",
    "            - Processed_Tiles (Directory for all preprocessed tiles of this dataset, organized by folder)\n",
    "                - [preproc_result]\n",
    "                    - [TileName]\\_[preprocExtension].[extension]\n",
    "                \n",
    "        - meta_data\n",
    "            - collection.txt (file that is updated each time a new channel is made using preprocessing)\n",
    "            - colTileNames.txt (file that contains the name of each tile in the collection without extensions)\n",
    "            - mean_values.npy (file that contains the mean value of each channel)\n",
    "        - collectionMeta.txt (a user-made file that specifies information of interest about this collection (e.g., data-resolution))\n",
    "    - [Dataset Name 2]\n",
    "    - ...\n",
    "    - [Dataset Name N]"
   ]
  },
  {
   "cell_type": "markdown",
   "metadata": {},
   "source": [
    "### Use the Framework in Your Settings"
   ]
  },
  {
   "cell_type": "markdown",
   "metadata": {},
   "source": [
    "**A. Change [uabRepoPaths.py](../uabRepoPaths.py)**"
   ]
  },
  {
   "cell_type": "code",
   "execution_count": 1,
   "metadata": {},
   "outputs": [],
   "source": [
    "import os\n",
    "# this example is relevant if you have 1 folder on 1 machine that has both the data and the \n",
    "# results.  Your setup may be different\n",
    "parentDir = r'/media/ei-edl01/data/remote_sensing_data/'\n",
    "dataPath = parentDir\n",
    "resPath = os.path.join(parentDir, 'Results')"
   ]
  },
  {
   "cell_type": "markdown",
   "metadata": {},
   "source": [
    "`parentDir` is where you have all the raw files from those dataset organized in our rules defined above. We already made some collections in `/ei-edl01/remote_sensing_data/` as you can see above. `dataPath` and `resPath` is where you have the data and the results (including extracted patches and experiment results). It is recommended to have the `resPath` as a local path. In training you want to have the training data as close to the GPU as possible. "
   ]
  },
  {
   "cell_type": "markdown",
   "metadata": {},
   "source": [
    "**B. Make Collection**"
   ]
  },
  {
   "cell_type": "markdown",
   "metadata": {},
   "source": [
    "Here is an example script:"
   ]
  },
  {
   "cell_type": "code",
   "execution_count": 6,
   "metadata": {},
   "outputs": [
    {
     "name": "stdout",
     "output_type": "stream",
     "text": [
      "Warning: do not forget to select tile-types for patch extraction.  Run function readMetadata() to obtain tile-level information\n"
     ]
    },
    {
     "data": {
      "text/plain": [
       "'/media/ei-edl01/data/remote_sensing_data/inria_orgd/data/TilePreproc/MultChanOp_chans1-2_DiffResc_rF13p000_rB7p000'"
      ]
     },
     "execution_count": 6,
     "metadata": {},
     "output_type": "execute_result"
    }
   ],
   "source": [
    "import uab_collectionFunctions\n",
    "import danielCustom.uabPreprocClasses\n",
    "import uabPreprocClasses\n",
    "\n",
    "blCol = uab_collectionFunctions.uabCollection('inria_orgd')\n",
    "opDetObj = danielCustom.uabPreprocClasses.uabOperTileDiffRescale(13, 7)\n",
    "rescObj = uabPreprocClasses.uabPreprocMultChanOp(\n",
    "    [1,2,3], 'RDIFF.tif' , 'Linearly rescale difference between R & B', [1, 2],opDetObj)\n",
    "rescObj.run(blCol)"
   ]
  },
  {
   "cell_type": "markdown",
   "metadata": {},
   "source": [
    "The first line `blCol = uab_collectionFunctions.uabCollection('inria_orgd')` makes a new collection reading data from `/media/ei-edl01/data/remote_sensing_data/inria_orgd`. The second and third line defines an linear operation on channels `[1,2]` (the second and third channel). Where the functions are defined as follows: "
   ]
  },
  {
   "cell_type": "code",
   "execution_count": 5,
   "metadata": {
    "collapsed": true
   },
   "outputs": [],
   "source": [
    "class uabOperTileOps(object):\n",
    "    def __init__(self, defName):\n",
    "        self.defaultName = defName\n",
    "        \n",
    "    def getName(self):\n",
    "        raise NotImplementedError('Must be implemented by the subclass')\n",
    "    \n",
    "    def run(self, tiles):\n",
    "        raise NotImplementedError('Must be implemented by the subclass')\n",
    "\n",
    "class uabOperTileDiffRescale(uabOperTileOps):\n",
    "    def __init__(self, rescFact, rescBias, defName = 'DiffResc'):\n",
    "        super(uabOperTileDiffRescale, self).__init__(defName)\n",
    "        self.rescFact = rescFact\n",
    "        self.rescBias = rescBias\n",
    "    \n",
    "    def getName(self):\n",
    "        return '%s_rF%s_rB%s' % (self.defaultName, util_functions.d2s(self.rescFact,3), util_functions.d2s(self.rescBias,3))\n",
    "    \n",
    "    def run(self, tiles):\n",
    "        return self.rescFact * (tiles[1] - tiles[0]) + self.rescBias"
   ]
  },
  {
   "cell_type": "markdown",
   "metadata": {},
   "source": [
    "To make your own uab operations, you can write a customized class inherit from uabOperTileOps, make sure you overwrite `getName()` and `run()` "
   ]
  },
  {
   "cell_type": "markdown",
   "metadata": {},
   "source": [
    "After finishing making collections, you can see the meta data of the collection by calling function `readMetadata()`. It will display a list of existed channels in this dataset, with their idex at the begining of each line and extensions at the end of each line."
   ]
  },
  {
   "cell_type": "code",
   "execution_count": 7,
   "metadata": {},
   "outputs": [
    {
     "name": "stdout",
     "output_type": "stream",
     "text": [
      "Description:  these are all the preprocessed tiles available for this dataset.  Use the indexes output on the start of each line to select this tile-type when going to patch extraction in the following step\n[0] Original Layer 0: Original_Tiles, [ext: GT.tif]\n[1] Channel RGB Layer 0: TilePreproc/TileChanSplit_chan0, [ext: RGB0.tif]\n[2] Channel RGB Layer 1: TilePreproc/TileChanSplit_chan1, [ext: RGB1.tif]\n[3] Channel RGB Layer 2: TilePreproc/TileChanSplit_chan2, [ext: RGB2.tif]\n[4] Linearly rescale difference between R & B: TilePreproc/MultChanOp_chans1-2_DiffResc_rF13p000_rB7p000, [ext: RDIFF.tif]\n"
     ]
    }
   ],
   "source": [
    "blCol.readMetadata()"
   ]
  },
  {
   "cell_type": "code",
   "execution_count": null,
   "metadata": {
    "collapsed": true
   },
   "outputs": [],
   "source": []
  }
 ],
 "metadata": {
  "kernelspec": {
   "display_name": "Python 2",
   "language": "python",
   "name": "python2"
  },
  "language_info": {
   "codemirror_mode": {
    "name": "ipython",
    "version": 2
   },
   "file_extension": ".py",
   "mimetype": "text/x-python",
   "name": "python",
   "nbconvert_exporter": "python",
   "pygments_lexer": "ipython2",
   "version": "2.7.14"
  }
 },
 "nbformat": 4,
 "nbformat_minor": 2
}
